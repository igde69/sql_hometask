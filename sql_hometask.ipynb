{
  "nbformat": 4,
  "nbformat_minor": 0,
  "metadata": {
    "colab": {
      "provenance": [],
      "authorship_tag": "ABX9TyPLmIiQ8/NmcamFlEfPL/91",
      "include_colab_link": true
    },
    "kernelspec": {
      "name": "python3",
      "display_name": "Python 3"
    },
    "language_info": {
      "name": "python"
    }
  },
  "cells": [
    {
      "cell_type": "markdown",
      "metadata": {
        "id": "view-in-github",
        "colab_type": "text"
      },
      "source": [
        "<a href=\"https://colab.research.google.com/github/igde69/sql_hometask/blob/main/sql_hometask.ipynb\" target=\"_parent\"><img src=\"https://colab.research.google.com/assets/colab-badge.svg\" alt=\"Open In Colab\"/></a>"
      ]
    },
    {
      "cell_type": "code",
      "source": [
        "# # Создание БД Students\n",
        "import sqlite3\n",
        "connection = sqlite3.connect('teatchers.db')\n",
        "cursor = connection.cursor()\n",
        "query = query = \"\"\"CREATE TABLE Students (\n",
        "Student_Id INTEGER NOT NULL PRIMARY KEY,\n",
        "Student_Name TEXT NOT NULL,\n",
        "School_Id INTEGER NOT NULL\n",
        ");\n",
        "\"\"\"\n",
        "cursor.execute(query)\n",
        "connection.commit()\n",
        "connection.close()\n",
        "\n"
      ],
      "metadata": {
        "id": "-CDPA0EJ8MAx"
      },
      "execution_count": null,
      "outputs": []
    },
    {
      "cell_type": "code",
      "source": [
        "# Создание БД Students\n",
        "import sqlite3\n",
        "connection = sqlite3.connect('teatchers.db')\n",
        "cursor = connection.cursor()\n",
        "query = \"\"\"INSERT INTO Students (Student_Id , Student_Name , School_Id )\n",
        "VALUES\n",
        "('201','Иван', '1'),\n",
        "('202', 'Пётр', '2'),\n",
        "('203', 'Анастасия', '3'),\n",
        "('204', 'Игорь', '4');\n",
        "\"\"\"\n",
        "cursor.execute(query)\n",
        "connection.commit()\n",
        "connection.close()\n"
      ],
      "metadata": {
        "id": "Ecz-W2tU-yT4"
      },
      "execution_count": null,
      "outputs": []
    },
    {
      "cell_type": "code",
      "source": [
        "import sqlite3\n",
        "\n",
        "def get_connection():\n",
        "  connection = sqlite3.connect('teatchers.db')\n",
        "  return connection\n",
        "\n",
        "def close_connection(connection):\n",
        "  if connection:\n",
        "    connection.close()\n",
        "\n",
        "def get_school_detail(school_id):\n",
        "  try:\n",
        "    connection = get_connection()\n",
        "    cursor = connection.cursor()\n",
        "    select_query = \"\"\"SELECT * FROM School WHERE School_Id = ?\"\"\"\n",
        "    cursor.execute(select_query,(school_id,))\n",
        "    records = cursor.fetchall() \n",
        "    print (\"Данные по школе\")\n",
        "    for row in records:\n",
        "      print (\"ID школы: \", row[0])\n",
        "      print (\"Название школы: \", row[1])\n",
        "      print (\"Количество мест: \", row[2])\n",
        "    close_connection(connection)\n",
        "  except (Exception, sqlite3.Erorr) as erorr:\n",
        "    print (\"Ошибка в получении данных\", erorr)\n",
        "    \n",
        "    \n",
        "def get_students_detail(student_id):\n",
        "  try:\n",
        "    connection = get_connection()\n",
        "    cursor = connection.cursor()\n",
        "    select_query = \"\"\"SELECT * FROM Students WHERE Student_Id = ?\"\"\"\n",
        "    cursor.execute(select_query,(student_id,))\n",
        "    records = cursor.fetchall()\n",
        "    print (\"Данные по студентам\")\n",
        "    \n",
        "    for row in records:\n",
        "      print (\"ID Студента: \", row[0])\n",
        "      print (\"Имя Студента: \", row[1])\n",
        "      print (\"ID школы: \", row[2])\n",
        "      \n",
        "  except (Exception, sqlite3.Erorr) as erorr:\n",
        "    print (\"Ошибка в получении данных\", erorr)\n",
        "\n",
        "print (\"Самостоятельная работа №1 по ID получить информацию о школе и студенте.\")\n",
        "get_school_detail(1)\n",
        "get_students_detail(203)\n",
        "\n",
        "# output \n",
        "\n",
        "# Самостоятельная работа №1 по ID получить информацию о школе и студенте.\n",
        "# Данные по школе\n",
        "# ID школы:  1\n",
        "# Название школы:  Протон\n",
        "# Количество мест:  200\n",
        "# Данные по студентам\n",
        "# ID Студента:  203\n",
        "# Имя Студента:  Анастасия\n",
        "# ID школы:  3\n"
      ],
      "metadata": {
        "id": "3pUw9DF3LJG6"
      },
      "execution_count": null,
      "outputs": []
    }
  ]
}